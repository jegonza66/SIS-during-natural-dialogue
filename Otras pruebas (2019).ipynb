{
 "cells": [
  {
   "cell_type": "code",
   "execution_count": 12,
   "metadata": {},
   "outputs": [
    {
     "name": "stdout",
     "output_type": "stream",
     "text": [
      "Using matplotlib backend: Qt5Agg\n",
      "Populating the interactive namespace from numpy and matplotlib\n",
      "The autoreload extension is already loaded. To reload it, use:\n",
      "  %reload_ext autoreload\n"
     ]
    }
   ],
   "source": [
    "import numpy as np\n",
    "import mne\n",
    "import pandas as pd\n",
    "import matplotlib.pyplot as plt\n",
    "import numpy as np\n",
    "from sklearn import linear_model\n",
    "import scipy.io.wavfile as wavfile\n",
    "import librosa as librosa\n",
    "from sklearn.utils import resample\n",
    "\n",
    "%pylab\n",
    "%matplotlib inline\n",
    "%load_ext autoreload\n",
    "%autoreload 2"
   ]
  },
  {
   "cell_type": "code",
   "execution_count": 13,
   "metadata": {},
   "outputs": [
    {
     "name": "stdout",
     "output_type": "stream",
     "text": [
      "prueba 1: con 3 variables y 2 delays\n",
      "Stimulus matrix is now 3 time points by 6 features (should be # original features     (3) x # delays (2))\n",
      "[[1. 4. 7. 0. 0. 0.]\n",
      " [2. 5. 8. 1. 4. 7.]\n",
      " [3. 6. 9. 2. 5. 8.]]\n",
      "\n",
      "\n",
      "prueba 2: con 1 variables y 3 delays\n",
      "Stimulus matrix is now 3 time points by 3 features (should be # original features     (1) x # delays (3))\n",
      "[[1. 0. 0.]\n",
      " [2. 1. 0.]\n",
      " [3. 2. 1.]]\n",
      "\n",
      "\n"
     ]
    }
   ],
   "source": [
    "## ACÁ ESTÁ EL CÓDIGO QUE ARMA LA MATRIZ SHIFTEADA\n",
    "def matriz_shifteada(features,delays):\n",
    "    features = np.matrix(features).T\n",
    "    nt,ndim = features.shape\n",
    "    dstims = []\n",
    "    for di,d in enumerate(delays):\n",
    "        dstim = np.zeros((nt, ndim))\n",
    "        if d<0: ## negative delay\n",
    "            dstim[:d,:] = features[-d:,:] # The last d elements until the end\n",
    "        elif d>0:\n",
    "            dstim[d:,:] = features[:-d,:] # All but the last d elements\n",
    "        else:\n",
    "            dstim =  features.copy()\n",
    "        dstims.append(dstim)\n",
    "    dstims = np.hstack(dstims)\n",
    "    print(\"Stimulus matrix is now %d time points by %d features (should be # original features \\\n",
    "    (%d) x # delays (%d))\"%(dstims.shape[0], dstims.shape[1], features.shape[1], len(delays)))   \n",
    "    return dstims\n",
    "\n",
    "print(\"prueba 1: con 3 variables y 2 delays\")\n",
    "prueba = np.array([[1,2,3],[4,5,6],[7,8,9]])\n",
    "delays = np.arange(2).astype(\"int\")\n",
    "print(matriz_shifteada(prueba,delays))\n",
    "print(\"\\n\")\n",
    "\n",
    "print(\"prueba 2: con 1 variables y 3 delays\")\n",
    "prueba = np.array([1,2,3])\n",
    "delays = np.arange(3).astype(\"int\")\n",
    "print(matriz_shifteada(prueba,delays))\n",
    "print(\"\\n\")"
   ]
  },
  {
   "cell_type": "markdown",
   "metadata": {},
   "source": [
    "## Armo el envelope"
   ]
  },
  {
   "cell_type": "code",
   "execution_count": 14,
   "metadata": {},
   "outputs": [],
   "source": [
    "trials= [1,2,3,5,6,7,8,9] ## saco el 4 porque es el que está raro (por alguna razón tiene más audio que eeg)\n",
    "sr = 128 # voy a dejar todo en 128\n",
    "salto_envelope=125 ## esto hace que te quede con un largo igual al del wav subsampleado\n",
    "largo_envelope=8000 ## esto es cuanto tiempo toma de ventana para armar el envelope\n",
    "hablante = [1,2,1,1,2,1,2,1] #quien es el \"Hablante\" (el que le da las instrucciones) en cada trial\n",
    "delay_time = 0.53"
   ]
  },
  {
   "cell_type": "code",
   "execution_count": 15,
   "metadata": {},
   "outputs": [
    {
     "name": "stdout",
     "output_type": "stream",
     "text": [
      "Stimulus matrix is now 9169 time points by 67 features (should be # original features     (1) x # delays (67))\n",
      "Stimulus matrix is now 14933 time points by 67 features (should be # original features     (1) x # delays (67))\n",
      "Stimulus matrix is now 18010 time points by 67 features (should be # original features     (1) x # delays (67))\n",
      "Stimulus matrix is now 46789 time points by 67 features (should be # original features     (1) x # delays (67))\n",
      "Stimulus matrix is now 39139 time points by 67 features (should be # original features     (1) x # delays (67))\n",
      "Stimulus matrix is now 10722 time points by 67 features (should be # original features     (1) x # delays (67))\n",
      "Stimulus matrix is now 10846 time points by 67 features (should be # original features     (1) x # delays (67))\n",
      "Stimulus matrix is now 30380 time points by 67 features (should be # original features     (1) x # delays (67))\n"
     ]
    }
   ],
   "source": [
    "delays = np.arange(np.floor(delay_time*sr), dtype=np.int) \n",
    "dstims_total = np.matrix(np.zeros(len(delays)))\n",
    "largo_feature = []\n",
    "\n",
    "for i in np.arange(len(trials)):\n",
    "    trial_a_tomar = trials[i]\n",
    "    ubi = \"Datos/wavs/S21/s21.objects.0\"+str(trial_a_tomar)+\".channel\"+str(hablante[i])+\".wav\" \n",
    "    wav1 = wavfile.read(ubi)[1]\n",
    "    wav1 = wav1.astype(\"float\")\n",
    "    ### envelope\n",
    "    salto = salto_envelope \n",
    "    largo = largo_envelope \n",
    "    envelope = librosa.feature.rms(wav1,frame_length=largo,hop_length=salto)\n",
    "    envelope = envelope.ravel().flatten()\n",
    "    \n",
    "    ## hasta acá ya tengo el envelope\n",
    "    \n",
    "    largo_feature.append(len(envelope)) ## guardo el largo del envelope que en un ratito lo voy a usar\n",
    "    dstims = matriz_shifteada(envelope,delays) # armo la matriz shifteada\n",
    "    \n",
    "    ## luego le quito los primeros 300 ms y lo agrego a la tira de envelopes\n",
    "    inicio = int(np.ceil(delay_time * sr))\n",
    "    \n",
    "    dstims = dstims[inicio:,:]\n",
    "    dstims_total= np.concatenate([dstims_total,dstims],axis=0)\n",
    "    \n",
    "## le tiro la primera fila (todo 0)\n",
    "dstims_total = dstims_total[1:,:]\n",
    "\n",
    "#estandarizo\n",
    "dstims_total = (dstims_total - dstims_total.mean(0))/dstims_total.std(0)\n",
    "dstims = dstims_total"
   ]
  },
  {
   "cell_type": "code",
   "execution_count": 16,
   "metadata": {},
   "outputs": [
    {
     "data": {
      "text/plain": [
       "[<matplotlib.lines.Line2D at 0x7fb7144422d0>]"
      ]
     },
     "execution_count": 16,
     "metadata": {},
     "output_type": "execute_result"
    },
    {
     "data": {
      "image/png": "[encoded data removed]",
      "text/plain": [
       "<Figure size 432x288 with 1 Axes>"
      ]
     },
     "metadata": {
      "needs_background": "light"
     },
     "output_type": "display_data"
    }
   ],
   "source": [
    "plt.plot(dstims[0:1000,0]) # así se ven todos los envelopes pegaditos cuando tirás los primeros 300 ms."
   ]
  },
  {
   "cell_type": "markdown",
   "metadata": {},
   "source": [
    "Ahora hay que recortar el envelope y dejar solamente aquellos momentos en los que el que seguía instrucciones está callado y escuchando audio de la otra persona.\n",
    "Para eso voy a usar las transcripciones: voy a armar un vector de 1 y \"nan\". \n",
    "1 para los trials que quiero, \"nan\" para los que no. Despues multiplico por el envelope por el vector y tiro los nans. Así solamente me quedan los pedacitos de envelope que necesito. Guardo el indice de los samples que tire asi despues tiro lo mismo en el eeg."
   ]
  },
  {
   "cell_type": "code",
   "execution_count": 20,
   "metadata": {},
   "outputs": [
    {
     "name": "stdout",
     "output_type": "stream",
     "text": [
      "Stimulus matrix is now 9169 time points by 67 features (should be # original features     (1) x # delays (67))\n",
      "Stimulus matrix is now 14933 time points by 67 features (should be # original features     (1) x # delays (67))\n",
      "Stimulus matrix is now 18010 time points by 67 features (should be # original features     (1) x # delays (67))\n",
      "Stimulus matrix is now 46789 time points by 67 features (should be # original features     (1) x # delays (67))\n",
      "Stimulus matrix is now 39139 time points by 67 features (should be # original features     (1) x # delays (67))\n",
      "Stimulus matrix is now 10722 time points by 67 features (should be # original features     (1) x # delays (67))\n",
      "Stimulus matrix is now 10846 time points by 67 features (should be # original features     (1) x # delays (67))\n",
      "Stimulus matrix is now 30380 time points by 67 features (should be # original features     (1) x # delays (67))\n"
     ]
    }
   ],
   "source": [
    "dstims2_total = np.matrix(np.zeros(len(delays)))\n",
    "\n",
    "for i in np.arange(len(trials)):\n",
    "    trial_a_tomar = trials[i]\n",
    "    ubi= \"Datos/phrases/S21/s21.objects.0\"+str(trial_a_tomar)+\".channel\"+str(hablante[i])+\".phrases\"\n",
    "    h1t = pd.read_table(ubi,header=None,sep=\"\\t\")\n",
    "    ## paso los numerales a vacío. Cambio texto por 1 y silencio por 0\n",
    "    h1t.iloc[:,2] =(h1t.iloc[:,2].replace(\"#\",\"\").apply(len)>0).apply(int)\n",
    "    \n",
    "    ## tomo la diferencia entre el tiempo en el que empieza a hablar y el tiempo que termina de hablar\n",
    "    ## lo multiplico por el sampling rate (128) y lo redondeo. Me va a quedar muy parecido al largo del envelope\n",
    "    ## pero con una pequeña diferencia de una o dos samples\n",
    "    veces=np.round((h1t[1] - h1t[0])*sr).astype(\"int\")\n",
    "    hablante1 = np.repeat(h1t.iloc[:,2],veces) \n",
    "    hablante1 = hablante1.ravel()\n",
    "    \n",
    "    ## hago lo mismo con el interlocutor\n",
    "    oyente =(np.array(hablante) - 3)*-1\n",
    "    ubi= \"Datos/phrases/S21/s21.objects.0\"+str(trial_a_tomar)+\".channel\"+str(oyente[i])+\".phrases\"\n",
    "    h2t = pd.read_table(ubi,header=None,sep=\"\\t\")\n",
    "    ## paso los numerales a vacío. Cambio texto por 1 y silencio por 0\n",
    "    h2t.iloc[:,2] =(h2t.iloc[:,2].replace(\"#\",\"\").apply(len)>0).apply(int)\n",
    "    veces=np.round((h2t[1] - h2t[0])*sr).astype(\"int\")\n",
    "    hablante2 = np.repeat(h2t.iloc[:,2],veces) \n",
    "    hablante2 = hablante2.ravel()\n",
    "    \n",
    "    ## hay diferencias de largos entre los hablantes? corrijo con 0-padding\n",
    "    diferencia = len(hablante1) - len(hablante2)\n",
    "    if diferencia > 0:\n",
    "        hablante2 = np.concatenate([hablante2,np.repeat(0,diferencia)])\n",
    "    elif diferencia <0 : \n",
    "        hablante1 = np.concatenate([hablante1,np.repeat(0,np.abs(diferencia))])\n",
    "    \n",
    "    ## multiplico hablante2 por 2 y los sumo así tengo un vector en el que\n",
    "    ## 0 es silencio, 1 es que habla el que dirige, 2 es que habla el \"oyente\"\n",
    "    ## 3 es que hablan los 2 a la vez.\n",
    "    \n",
    "    hablantes = hablante1 + hablante2*2\n",
    "    \n",
    "    ## corrijo las diferencias entre el largo del envelope y el largo del vectorcito este \n",
    "    diferencia = len(hablantes) - largo_feature[i]\n",
    "    if diferencia < 0:\n",
    "        hablante2 = np.concatenate([hablantes,np.repeat(0,diferencia)])\n",
    "    elif diferencia >0 : \n",
    "        hablantes = hablantes[:-diferencia]\n",
    "        \n",
    "        \n",
    "    #nota: las diferencias siempre son de 3 o 4 samples. \n",
    "    \n",
    "    ## armo la matriz shifteada de la misma manera que con el envelope. \n",
    "    ## voy a tener una matriz de features igual a la del envelope pero con 0 en silencio\n",
    "    ## 1 cuando habla el que dirige, 2 cuando habla el que escucha y 3 cuando hablan los 2.\n",
    "    dstims2 = matriz_shifteada(hablantes,delays)\n",
    "    inicio = int(np.ceil(delay_time * sr)) ## le tiro los primeros 300 ms\n",
    "    dstims2 = dstims2[inicio:,:]\n",
    "    dstims2_total= np.concatenate([dstims2_total,dstims2],axis=0)\n",
    "## le tiro la primera fila (todo 0)\n",
    "dstims2_total = dstims2_total[1:,:]\n",
    "dstims2 = dstims2_total"
   ]
  },
  {
   "cell_type": "code",
   "execution_count": 21,
   "metadata": {},
   "outputs": [
    {
     "name": "stdout",
     "output_type": "stream",
     "text": [
      "(179444, 67)\n",
      "(179444, 67)\n"
     ]
    }
   ],
   "source": [
    "print(dstims.shape)\n",
    "print(dstims2.shape)\n"
   ]
  },
  {
   "cell_type": "markdown",
   "metadata": {},
   "source": [
    "Lo bueno de haber hecho la matriz con 0,1,2,3 es que puedo elegir con que me quedo y que tiro. Ahora me voy a quedar solamente con los pedazos en los que el que dirige está hablando y el que lo sigue está escuchando en silencio."
   ]
  },
  {
   "cell_type": "code",
   "execution_count": 22,
   "metadata": {},
   "outputs": [],
   "source": [
    "dstims2[dstims2 != 1] = float(\"nan\") #convierto a nan todo lo que no quiero\n",
    "inds = pd.isnull(dstims2).any(1).nonzero()[0] # guardo los indices\n",
    "dstims = np.delete(dstims,inds,axis=0) ## y los borro"
   ]
  },
  {
   "cell_type": "code",
   "execution_count": 23,
   "metadata": {},
   "outputs": [
    {
     "data": {
      "text/plain": [
       "(48342, 67)"
      ]
     },
     "execution_count": 23,
     "metadata": {},
     "output_type": "execute_result"
    }
   ],
   "source": [
    "dstims.shape"
   ]
  },
  {
   "cell_type": "code",
   "execution_count": 24,
   "metadata": {},
   "outputs": [
    {
     "data": {
      "text/plain": [
       "[<matplotlib.lines.Line2D at 0x7fb71431cf50>]"
      ]
     },
     "execution_count": 24,
     "metadata": {},
     "output_type": "execute_result"
    },
    {
     "data": {
      "image/png": "[encoded data removed]",
      "text/plain": [
       "<Figure size 432x288 with 1 Axes>"
      ]
     },
     "metadata": {
      "needs_background": "light"
     },
     "output_type": "display_data"
    }
   ],
   "source": [
    "# queda así (comparar con el gráfico de arriba)\n",
    "plt.plot(dstims[0:1000,0])"
   ]
  },
  {
   "cell_type": "markdown",
   "metadata": {},
   "source": [
    "## Armo el EEG"
   ]
  },
  {
   "cell_type": "code",
   "execution_count": 25,
   "metadata": {},
   "outputs": [],
   "source": [
    "#para subsamplear\n",
    "def subsamplear(x,cada_cuanto):\n",
    "    x = np.array(x)\n",
    "    tomar = np.arange(0,len(x),int(cada_cuanto))\n",
    "    return x[tomar]   "
   ]
  },
  {
   "cell_type": "code",
   "execution_count": 27,
   "metadata": {},
   "outputs": [
    {
     "name": "stdout",
     "output_type": "stream",
     "text": [
      "Reading Datos/EEG/S21/s21-2-Trial9-Deci-Filter-Trim-ICA-Pruned.fdt\n",
      "Reading 0 ... 121543  =      0.000 ...   237.389 secs...\n"
     ]
    },
    {
     "name": "stderr",
     "output_type": "stream",
     "text": [
      "/home/joaco/anaconda3/lib/python3.7/site-packages/mne/annotations.py:366: RuntimeWarning: invalid value encountered in less\n",
      "  out_of_bounds = (absolute_onset > tmax) | (absolute_offset < tmin)\n",
      "/home/joaco/anaconda3/lib/python3.7/site-packages/mne/annotations.py:375: RuntimeWarning: invalid value encountered in greater\n",
      "  clip_right_elem = (absolute_offset > tmax) & ~out_of_bounds\n",
      "<ipython-input-27-408e1a7d5abd>:3: RuntimeWarning: Limited 2 annotation(s) that were expanding outside the data range.\n",
      "  eeg = mne.io.read_raw_eeglab(ubi)\n",
      "<ipython-input-27-408e1a7d5abd>:3: RuntimeWarning: The data contains 'boundary' events, indicating data discontinuities. Be cautious of filtering and epoching around these events.\n",
      "  eeg = mne.io.read_raw_eeglab(ubi)\n"
     ]
    },
    {
     "name": "stdout",
     "output_type": "stream",
     "text": [
      "Filtering raw data in 1 contiguous segment\n",
      "Setting up low-pass filter at 40 Hz\n",
      "\n",
      "FIR filter parameters\n",
      "---------------------\n",
      "Designing a one-pass, zero-phase, non-causal lowpass filter:\n",
      "- Windowed time-domain design (firwin) method\n",
      "- Hamming window with 0.0194 passband ripple and 53 dB stopband attenuation\n",
      "- Upper passband edge: 40.00 Hz\n",
      "- Upper transition bandwidth: 10.00 Hz (-6 dB cutoff frequency: 45.00 Hz)\n",
      "- Filter length: 169 samples (0.330 sec)\n",
      "\n",
      "Converting \"time\" to \"<class 'numpy.int64'>\"...\n"
     ]
    }
   ],
   "source": [
    "trial_a_tomar = trials[i]\n",
    "ubi = \"Datos/EEG/S21/s21-2-Trial\"+str(trial_a_tomar)+\"-Deci-Filter-Trim-ICA-Pruned.set\"\n",
    "eeg = mne.io.read_raw_eeglab(ubi)\n",
    "eeg_freq = eeg.info.get(\"sfreq\")\n",
    "eeg.load_data()\n",
    "eeg = eeg.filter(l_freq= None, h_freq= 40) ## hago un lowpass de 40\n",
    "eeg =eeg.to_data_frame()\n"
   ]
  },
  {
   "cell_type": "code",
   "execution_count": 29,
   "metadata": {},
   "outputs": [
    {
     "name": "stdout",
     "output_type": "stream",
     "text": [
      "Reading Datos/EEG/S21/s21-2-Trial1-Deci-Filter-Trim-ICA-Pruned.fdt\n",
      "Reading 0 ... 36680  =      0.000 ...    71.641 secs...\n"
     ]
    },
    {
     "name": "stderr",
     "output_type": "stream",
     "text": [
      "<ipython-input-29-22c29323b98b>:6: RuntimeWarning: Limited 2 annotation(s) that were expanding outside the data range.\n",
      "  eeg = mne.io.read_raw_eeglab(ubi)\n",
      "<ipython-input-29-22c29323b98b>:6: RuntimeWarning: The data contains 'boundary' events, indicating data discontinuities. Be cautious of filtering and epoching around these events.\n",
      "  eeg = mne.io.read_raw_eeglab(ubi)\n"
     ]
    },
    {
     "name": "stdout",
     "output_type": "stream",
     "text": [
      "Filtering raw data in 1 contiguous segment\n",
      "Setting up low-pass filter at 40 Hz\n",
      "\n",
      "FIR filter parameters\n",
      "---------------------\n",
      "Designing a one-pass, zero-phase, non-causal lowpass filter:\n",
      "- Windowed time-domain design (firwin) method\n",
      "- Hamming window with 0.0194 passband ripple and 53 dB stopband attenuation\n",
      "- Upper passband edge: 40.00 Hz\n",
      "- Upper transition bandwidth: 10.00 Hz (-6 dB cutoff frequency: 45.00 Hz)\n",
      "- Filter length: 169 samples (0.330 sec)\n",
      "\n",
      "Converting \"time\" to \"<class 'numpy.int64'>\"...\n",
      "la diferencia en frames es de 5.0\n",
      "corrijo... son iguales? True\n",
      "al tomar una muestra cada 4.0 samples, hay una diferencia de 0.0 segundos\n",
      "y con el audio hay una diferencia de 0.0 segundos\n",
      "fin de iteracion\n",
      "el largo de eeg_final es de 9102 samples\n",
      "y el largo de dtsims es de 48342 sampes\n",
      "\n",
      " \n",
      "\n",
      "##########################################################\n",
      "\n",
      " \n",
      "\n",
      "Reading Datos/EEG/S21/s21-2-Trial2-Deci-Filter-Trim-ICA-Pruned.fdt\n",
      "Reading 0 ... 59741  =      0.000 ...   116.682 secs...\n"
     ]
    },
    {
     "name": "stderr",
     "output_type": "stream",
     "text": [
      "<ipython-input-29-22c29323b98b>:6: RuntimeWarning: Limited 3 annotation(s) that were expanding outside the data range.\n",
      "  eeg = mne.io.read_raw_eeglab(ubi)\n",
      "<ipython-input-29-22c29323b98b>:6: RuntimeWarning: The data contains 'boundary' events, indicating data discontinuities. Be cautious of filtering and epoching around these events.\n",
      "  eeg = mne.io.read_raw_eeglab(ubi)\n"
     ]
    },
    {
     "name": "stdout",
     "output_type": "stream",
     "text": [
      "Filtering raw data in 1 contiguous segment\n",
      "Setting up low-pass filter at 40 Hz\n",
      "\n",
      "FIR filter parameters\n",
      "---------------------\n",
      "Designing a one-pass, zero-phase, non-causal lowpass filter:\n",
      "- Windowed time-domain design (firwin) method\n",
      "- Hamming window with 0.0194 passband ripple and 53 dB stopband attenuation\n",
      "- Upper passband edge: 40.00 Hz\n",
      "- Upper transition bandwidth: 10.00 Hz (-6 dB cutoff frequency: 45.00 Hz)\n",
      "- Filter length: 169 samples (0.330 sec)\n",
      "\n",
      "Converting \"time\" to \"<class 'numpy.int64'>\"...\n",
      "la diferencia en frames es de 10.0\n",
      "corrijo... son iguales? True\n",
      "al tomar una muestra cada 4.0 samples, hay una diferencia de 0.0 segundos\n",
      "y con el audio hay una diferencia de 0.0 segundos\n",
      "fin de iteracion\n",
      "el largo de eeg_final es de 23967 samples\n",
      "y el largo de dtsims es de 48342 sampes\n",
      "\n",
      " \n",
      "\n",
      "##########################################################\n",
      "\n",
      " \n",
      "\n",
      "Reading Datos/EEG/S21/s21-2-Trial3-Deci-Filter-Trim-ICA-Pruned.fdt\n",
      "Reading 0 ... 72046  =      0.000 ...   140.715 secs...\n"
     ]
    },
    {
     "name": "stderr",
     "output_type": "stream",
     "text": [
      "<ipython-input-29-22c29323b98b>:6: RuntimeWarning: Limited 3 annotation(s) that were expanding outside the data range.\n",
      "  eeg = mne.io.read_raw_eeglab(ubi)\n",
      "<ipython-input-29-22c29323b98b>:6: RuntimeWarning: The data contains 'boundary' events, indicating data discontinuities. Be cautious of filtering and epoching around these events.\n",
      "  eeg = mne.io.read_raw_eeglab(ubi)\n"
     ]
    },
    {
     "name": "stdout",
     "output_type": "stream",
     "text": [
      "Filtering raw data in 1 contiguous segment\n",
      "Setting up low-pass filter at 40 Hz\n",
      "\n",
      "FIR filter parameters\n",
      "---------------------\n",
      "Designing a one-pass, zero-phase, non-causal lowpass filter:\n",
      "- Windowed time-domain design (firwin) method\n",
      "- Hamming window with 0.0194 passband ripple and 53 dB stopband attenuation\n",
      "- Upper passband edge: 40.00 Hz\n",
      "- Upper transition bandwidth: 10.00 Hz (-6 dB cutoff frequency: 45.00 Hz)\n",
      "- Filter length: 169 samples (0.330 sec)\n",
      "\n",
      "Converting \"time\" to \"<class 'numpy.int64'>\"...\n",
      "la diferencia en frames es de 7.0\n",
      "corrijo... son iguales? True\n",
      "al tomar una muestra cada 4.0 samples, hay una diferencia de 0.0 segundos\n",
      "y con el audio hay una diferencia de 0.0 segundos\n",
      "fin de iteracion\n",
      "el largo de eeg_final es de 41909 samples\n",
      "y el largo de dtsims es de 48342 sampes\n",
      "\n",
      " \n",
      "\n",
      "##########################################################\n",
      "\n",
      " \n",
      "\n",
      "Reading Datos/EEG/S21/s21-2-Trial5-Deci-Filter-Trim-ICA-Pruned.fdt\n",
      "Reading 0 ... 187159  =      0.000 ...   365.545 secs...\n"
     ]
    },
    {
     "name": "stderr",
     "output_type": "stream",
     "text": [
      "<ipython-input-29-22c29323b98b>:6: RuntimeWarning: Limited 2 annotation(s) that were expanding outside the data range.\n",
      "  eeg = mne.io.read_raw_eeglab(ubi)\n",
      "<ipython-input-29-22c29323b98b>:6: RuntimeWarning: The data contains 'boundary' events, indicating data discontinuities. Be cautious of filtering and epoching around these events.\n",
      "  eeg = mne.io.read_raw_eeglab(ubi)\n"
     ]
    },
    {
     "name": "stdout",
     "output_type": "stream",
     "text": [
      "Filtering raw data in 1 contiguous segment\n",
      "Setting up low-pass filter at 40 Hz\n",
      "\n",
      "FIR filter parameters\n",
      "---------------------\n",
      "Designing a one-pass, zero-phase, non-causal lowpass filter:\n",
      "- Windowed time-domain design (firwin) method\n",
      "- Hamming window with 0.0194 passband ripple and 53 dB stopband attenuation\n",
      "- Upper passband edge: 40.00 Hz\n",
      "- Upper transition bandwidth: 10.00 Hz (-6 dB cutoff frequency: 45.00 Hz)\n",
      "- Filter length: 169 samples (0.330 sec)\n",
      "\n",
      "Converting \"time\" to \"<class 'numpy.int64'>\"...\n",
      "la diferencia en frames es de 4.0\n",
      "corrijo... son iguales? True\n",
      "al tomar una muestra cada 4.0 samples, hay una diferencia de 0.0 segundos\n",
      "y con el audio hay una diferencia de 0.0 segundos\n",
      "fin de iteracion\n",
      "el largo de eeg_final es de 88630 samples\n",
      "y el largo de dtsims es de 48342 sampes\n",
      "\n",
      " \n",
      "\n",
      "##########################################################\n",
      "\n",
      " \n",
      "\n",
      "Reading Datos/EEG/S21/s21-2-Trial6-Deci-Filter-Trim-ICA-Pruned.fdt\n",
      "Reading 0 ... 156569  =      0.000 ...   305.799 secs...\n"
     ]
    },
    {
     "name": "stderr",
     "output_type": "stream",
     "text": [
      "<ipython-input-29-22c29323b98b>:6: RuntimeWarning: Limited 2 annotation(s) that were expanding outside the data range.\n",
      "  eeg = mne.io.read_raw_eeglab(ubi)\n",
      "<ipython-input-29-22c29323b98b>:6: RuntimeWarning: The data contains 'boundary' events, indicating data discontinuities. Be cautious of filtering and epoching around these events.\n",
      "  eeg = mne.io.read_raw_eeglab(ubi)\n"
     ]
    },
    {
     "name": "stdout",
     "output_type": "stream",
     "text": [
      "Filtering raw data in 1 contiguous segment\n",
      "Setting up low-pass filter at 40 Hz\n",
      "\n",
      "FIR filter parameters\n",
      "---------------------\n",
      "Designing a one-pass, zero-phase, non-causal lowpass filter:\n",
      "- Windowed time-domain design (firwin) method\n",
      "- Hamming window with 0.0194 passband ripple and 53 dB stopband attenuation\n",
      "- Upper passband edge: 40.00 Hz\n",
      "- Upper transition bandwidth: 10.00 Hz (-6 dB cutoff frequency: 45.00 Hz)\n",
      "- Filter length: 169 samples (0.330 sec)\n",
      "\n",
      "Converting \"time\" to \"<class 'numpy.int64'>\"...\n",
      "la diferencia en frames es de 14.0\n",
      "corrijo... son iguales? True\n",
      "al tomar una muestra cada 4.0 samples, hay una diferencia de 0.0 segundos\n",
      "y con el audio hay una diferencia de 0.0 segundos\n",
      "fin de iteracion\n",
      "el largo de eeg_final es de 127701 samples\n",
      "y el largo de dtsims es de 48342 sampes\n",
      "\n",
      " \n",
      "\n",
      "##########################################################\n",
      "\n",
      " \n",
      "\n",
      "Reading Datos/EEG/S21/s21-2-Trial7-Deci-Filter-Trim-ICA-Pruned.fdt\n",
      "Reading 0 ... 42907  =      0.000 ...    83.803 secs...\n"
     ]
    },
    {
     "name": "stderr",
     "output_type": "stream",
     "text": [
      "<ipython-input-29-22c29323b98b>:6: RuntimeWarning: Limited 2 annotation(s) that were expanding outside the data range.\n",
      "  eeg = mne.io.read_raw_eeglab(ubi)\n",
      "<ipython-input-29-22c29323b98b>:6: RuntimeWarning: The data contains 'boundary' events, indicating data discontinuities. Be cautious of filtering and epoching around these events.\n",
      "  eeg = mne.io.read_raw_eeglab(ubi)\n"
     ]
    },
    {
     "name": "stdout",
     "output_type": "stream",
     "text": [
      "Filtering raw data in 1 contiguous segment\n",
      "Setting up low-pass filter at 40 Hz\n",
      "\n",
      "FIR filter parameters\n",
      "---------------------\n",
      "Designing a one-pass, zero-phase, non-causal lowpass filter:\n",
      "- Windowed time-domain design (firwin) method\n",
      "- Hamming window with 0.0194 passband ripple and 53 dB stopband attenuation\n",
      "- Upper passband edge: 40.00 Hz\n",
      "- Upper transition bandwidth: 10.00 Hz (-6 dB cutoff frequency: 45.00 Hz)\n",
      "- Filter length: 169 samples (0.330 sec)\n",
      "\n",
      "Converting \"time\" to \"<class 'numpy.int64'>\"...\n",
      "la diferencia en frames es de 20.0\n",
      "corrijo... son iguales? True\n",
      "al tomar una muestra cada 4.0 samples, hay una diferencia de 0.0 segundos\n",
      "y con el audio hay una diferencia de 0.0 segundos\n",
      "fin de iteracion\n",
      "el largo de eeg_final es de 138355 samples\n",
      "y el largo de dtsims es de 48342 sampes\n",
      "\n",
      " \n",
      "\n",
      "##########################################################\n",
      "\n",
      " \n",
      "\n",
      "Reading Datos/EEG/S21/s21-2-Trial8-Deci-Filter-Trim-ICA-Pruned.fdt\n",
      "Reading 0 ... 43403  =      0.000 ...    84.771 secs...\n"
     ]
    },
    {
     "name": "stderr",
     "output_type": "stream",
     "text": [
      "<ipython-input-29-22c29323b98b>:6: RuntimeWarning: Limited 2 annotation(s) that were expanding outside the data range.\n",
      "  eeg = mne.io.read_raw_eeglab(ubi)\n",
      "<ipython-input-29-22c29323b98b>:6: RuntimeWarning: The data contains 'boundary' events, indicating data discontinuities. Be cautious of filtering and epoching around these events.\n",
      "  eeg = mne.io.read_raw_eeglab(ubi)\n"
     ]
    },
    {
     "name": "stdout",
     "output_type": "stream",
     "text": [
      "Filtering raw data in 1 contiguous segment\n",
      "Setting up low-pass filter at 40 Hz\n",
      "\n",
      "FIR filter parameters\n",
      "---------------------\n",
      "Designing a one-pass, zero-phase, non-causal lowpass filter:\n",
      "- Windowed time-domain design (firwin) method\n",
      "- Hamming window with 0.0194 passband ripple and 53 dB stopband attenuation\n",
      "- Upper passband edge: 40.00 Hz\n",
      "- Upper transition bandwidth: 10.00 Hz (-6 dB cutoff frequency: 45.00 Hz)\n",
      "- Filter length: 169 samples (0.330 sec)\n",
      "\n",
      "Converting \"time\" to \"<class 'numpy.int64'>\"...\n",
      "la diferencia en frames es de 20.0\n",
      "corrijo... son iguales? True\n",
      "al tomar una muestra cada 4.0 samples, hay una diferencia de 0.0 segundos\n",
      "y con el audio hay una diferencia de 0.0 segundos\n",
      "fin de iteracion\n",
      "el largo de eeg_final es de 149133 samples\n",
      "y el largo de dtsims es de 48342 sampes\n",
      "\n",
      " \n",
      "\n",
      "##########################################################\n",
      "\n",
      " \n",
      "\n",
      "Reading Datos/EEG/S21/s21-2-Trial9-Deci-Filter-Trim-ICA-Pruned.fdt\n",
      "Reading 0 ... 121543  =      0.000 ...   237.389 secs...\n"
     ]
    },
    {
     "name": "stderr",
     "output_type": "stream",
     "text": [
      "<ipython-input-29-22c29323b98b>:6: RuntimeWarning: Limited 2 annotation(s) that were expanding outside the data range.\n",
      "  eeg = mne.io.read_raw_eeglab(ubi)\n",
      "<ipython-input-29-22c29323b98b>:6: RuntimeWarning: The data contains 'boundary' events, indicating data discontinuities. Be cautious of filtering and epoching around these events.\n",
      "  eeg = mne.io.read_raw_eeglab(ubi)\n"
     ]
    },
    {
     "name": "stdout",
     "output_type": "stream",
     "text": [
      "Filtering raw data in 1 contiguous segment\n",
      "Setting up low-pass filter at 40 Hz\n",
      "\n",
      "FIR filter parameters\n",
      "---------------------\n",
      "Designing a one-pass, zero-phase, non-causal lowpass filter:\n",
      "- Windowed time-domain design (firwin) method\n",
      "- Hamming window with 0.0194 passband ripple and 53 dB stopband attenuation\n",
      "- Upper passband edge: 40.00 Hz\n",
      "- Upper transition bandwidth: 10.00 Hz (-6 dB cutoff frequency: 45.00 Hz)\n",
      "- Filter length: 169 samples (0.330 sec)\n",
      "\n",
      "Converting \"time\" to \"<class 'numpy.int64'>\"...\n",
      "la diferencia en frames es de 24.0\n",
      "corrijo... son iguales? True\n",
      "al tomar una muestra cada 4.0 samples, hay una diferencia de 0.0 segundos\n",
      "y con el audio hay una diferencia de 0.0 segundos\n",
      "fin de iteracion\n",
      "el largo de eeg_final es de 179445 samples\n",
      "y el largo de dtsims es de 48342 sampes\n",
      "\n",
      " \n",
      "\n",
      "##########################################################\n",
      "\n",
      " \n",
      "\n"
     ]
    }
   ],
   "source": [
    "eeg_final = np.matrix(np.zeros(128))\n",
    "largos_eeg = []\n",
    "for i in np.arange(len(trials)):\n",
    "    trial_a_tomar = trials[i]\n",
    "    ubi = \"Datos/EEG/S21/s21-2-Trial\"+str(trial_a_tomar)+\"-Deci-Filter-Trim-ICA-Pruned.set\"\n",
    "    eeg = mne.io.read_raw_eeglab(ubi)\n",
    "    eeg_freq = eeg.info.get(\"sfreq\")\n",
    "    eeg.load_data()\n",
    "    eeg = eeg.filter(l_freq= None, h_freq= 40) ## hago un lowpass de 40\n",
    "    eeg =eeg.to_data_frame()\n",
    "    eeg = np.matrix(eeg)\n",
    "    eeg = eeg[:,0:128] ## tomo 128 canales\n",
    "\n",
    "    ## emparejo con el audio\n",
    "    l_feat = largo_feature[i]\n",
    "    dif_en_seg = eeg.shape[0]/eeg_freq- l_feat/sr\n",
    "    print(\"la diferencia en frames es de {}\".format(dif_en_seg*eeg_freq))\n",
    "    if (dif_en_seg > 0):\n",
    "        tirar= int(np.ceil(dif_en_seg*eeg_freq))\n",
    "        eeg = eeg[0:-tirar,:]\n",
    "        print(\"corrijo... son iguales? \" + str(eeg.shape[0]/eeg_freq == l_feat/sr))\n",
    "    elif dif_en_seg <0:\n",
    "        ## habia chequeado a mano que el eeg nunca es menor al audio, así que esto no debería pasar\n",
    "        print(\"AAAAAAAAAAAAAAAAAAAAAAAAAAAAAAAAAAAAAAAAAAAAAAAAAAAAAA\")\n",
    "    else:\n",
    "        print(\"no hace falta corregir? \" + str(eeg.shape[0]/eeg_freq == l_feat/sr))\n",
    "    ## estandarizo\n",
    "    eeg = (eeg - eeg.mean(0))/eeg.std(0)\n",
    "\n",
    "    ## subsampleo\n",
    "    eeg_s = subsamplear(eeg,eeg_freq/sr)\n",
    "    print(\"al tomar una muestra cada {} samples, hay una diferencia de {} segundos\".format(eeg_freq/sr ,eeg_s.shape[0]/128- eeg.shape[0]/512))\n",
    "    print(\"y con el audio hay una diferencia de {} segundos\".format(eeg_s.shape[0] - float(l_feat)))\n",
    "    eeg = eeg_s\n",
    "    \n",
    "    ## le tiro los primeros 300 ms\n",
    "    inicio = int(np.ceil(delay_time * sr)) ## le tiro los primeros 300 ms\n",
    "    eeg = eeg[inicio:]\n",
    "\n",
    "    largos_eeg.append(eeg.shape[0])\n",
    "\n",
    "    ## lo uno a la tira de eeg\n",
    "    eeg_final = np.concatenate([eeg_final,eeg],axis=0)\n",
    "    print(\"fin de iteracion\")\n",
    "    print(\"el largo de eeg_final es de {} samples\".format(str(eeg_final.shape[0])))\n",
    "    print(\"y el largo de dtsims es de {} sampes\".format(str(dstims.shape[0])) )\n",
    "    print(\"\\n \\n\")\n",
    "    print(\"##########################################################\")\n",
    "    print(\"\\n \\n\")\n",
    "\n",
    "## tiro el primero porque le habia puesto todo 0 para empezar\n",
    "\n",
    "eeg = eeg_final[1:,:]"
   ]
  },
  {
   "cell_type": "code",
   "execution_count": 30,
   "metadata": {},
   "outputs": [],
   "source": [
    "## ahora le tiro los mismos samples que tiré en el audio\n",
    "## entonces me quedo solamente con pedazos de eeg en los que uno habla y el otro escucha calladito.\n",
    "eegz = np.delete(eeg,inds,axis=0)\n",
    "nt = eegz.shape[0]"
   ]
  },
  {
   "cell_type": "code",
   "execution_count": 31,
   "metadata": {},
   "outputs": [
    {
     "name": "stdout",
     "output_type": "stream",
     "text": [
      "el eeg:  (48342, 128)\n",
      "el audio: (48342, 67)\n",
      "en segundos son:  377.671875\n",
      "Aprox 6.29 minutos\n"
     ]
    }
   ],
   "source": [
    "print(\"el eeg: \",eegz.shape)\n",
    "print(\"el audio:\", dstims.shape)\n",
    "\n",
    "print(\"en segundos son: \",dstims.shape[0]/128)\n",
    "print(\"Aprox \"+str(np.round(dstims.shape[0]/128/60,2))+\" minutos\")"
   ]
  },
  {
   "cell_type": "markdown",
   "metadata": {},
   "source": [
    "## acá podría hacerse por training y testing, con k-fold o con otra cosa. Por ahora me quedo con train y test"
   ]
  },
  {
   "cell_type": "code",
   "execution_count": 32,
   "metadata": {},
   "outputs": [
    {
     "name": "stdout",
     "output_type": "stream",
     "text": [
      "Delayed stimulus matrix has dimensions (48342, 67)\n"
     ]
    }
   ],
   "source": [
    "# Training indices\n",
    "train_inds = np.arange(np.int(nt*0.6))\n",
    "\n",
    "# Ridge indices\n",
    "ridge_inds = np.arange(np.int(nt*0.6),np.int(nt*0.8))\n",
    "\n",
    "# Validation indices\n",
    "val_inds = np.arange(np.int(nt*0.8),nt)\n",
    "\n",
    "print(\"Delayed stimulus matrix has dimensions\", dstims.shape)\n",
    "\n",
    "# Create matrices for cross validation\n",
    "\n",
    "# Training\n",
    "tStim = dstims[train_inds,:]\n",
    "tResp = eeg[train_inds,:]\n",
    "tResp_z = eegz[train_inds,:]\n",
    "\n",
    "# Ridge\n",
    "rStim = dstims[ridge_inds,:]\n",
    "rResp = eeg[ridge_inds,:]\n",
    "rResp_z = eegz[ridge_inds,:]\n",
    "\n",
    "# Validation\n",
    "vStim = dstims[val_inds,:]\n",
    "vResp = eeg[val_inds,:]\n",
    "vResp_z = eegz[val_inds,:]"
   ]
  },
  {
   "cell_type": "code",
   "execution_count": 17,
   "metadata": {},
   "outputs": [],
   "source": [
    "#np.savetxt(X=tStim,fname=\"/home/mauro/Desktop/trainset_x\")\n",
    "#np.savetxt(X=tResp_z,fname=\"/home/mauro/Desktop/trainset_y\")\n",
    "#np.savetxt(X=rStim,fname=\"/home/mauro/Desktop/testset_x\")\n",
    "#np.savetxt(X=rResp_z,fname=\"/home/mauro/Desktop/testset_y\")"
   ]
  },
  {
   "cell_type": "code",
   "execution_count": 33,
   "metadata": {},
   "outputs": [
    {
     "name": "stdout",
     "output_type": "stream",
     "text": [
      "Training: alpha=0.000, mean corr=0.050, max corr=0.190, over-under(0.10)=13\n",
      "Training: alpha=0.000, mean corr=0.050, max corr=0.190, over-under(0.10)=13\n",
      "Training: alpha=0.001, mean corr=0.050, max corr=0.190, over-under(0.10)=13\n",
      "Training: alpha=0.010, mean corr=0.050, max corr=0.191, over-under(0.10)=13\n",
      "Training: alpha=0.100, mean corr=0.050, max corr=0.191, over-under(0.10)=13\n",
      "Training: alpha=1.000, mean corr=0.051, max corr=0.191, over-under(0.10)=13\n",
      "Training: alpha=10.000, mean corr=0.051, max corr=0.190, over-under(0.10)=14\n",
      "Training: alpha=100.000, mean corr=0.052, max corr=0.191, over-under(0.10)=14\n",
      "Training: alpha=1000.000, mean corr=0.055, max corr=0.195, over-under(0.10)=14\n",
      "Training: alpha=10000.000, mean corr=0.060, max corr=0.202, over-under(0.10)=18\n",
      "Training: alpha=100000.000, mean corr=0.062, max corr=0.206, over-under(0.10)=19\n",
      "Training: alpha=1000000.000, mean corr=0.055, max corr=0.206, over-under(0.10)=20\n",
      "Training: alpha=10000000.000, mean corr=0.050, max corr=0.206, over-under(0.10)=19\n",
      "Training: alpha=100000000.000, mean corr=0.050, max corr=0.206, over-under(0.10)=18\n"
     ]
    }
   ],
   "source": [
    "alphas = np.hstack([0,np.logspace(-4,8,13)])\n",
    "correlaciones = []\n",
    "pesos = []\n",
    "intercepts = []\n",
    "lista_Rmse = []\n",
    "corrmin = 0.1\n",
    "\n",
    "for alfa in alphas:\n",
    "    mod = linear_model.Ridge(alpha=alfa, random_state=123)\n",
    "    mod.fit(tStim,tResp_z) ## entreno el modelo\n",
    "    predicho = mod.predict(rStim) ## testeo en ridge set\n",
    "    Rcorr = np.array([np.corrcoef(rResp_z[:,ii].ravel(), np.array(predicho[:,ii]).ravel())[0,1] for ii in range(rResp_z.shape[1])])\n",
    "    Rmse = np.matrix(np.sqrt(np.power((predicho - rResp_z),2).mean(0)))\n",
    "    lista_Rmse.append(np.array(Rmse)[0])\n",
    "    Rcorr[np.isnan(Rcorr)] = 0\n",
    "    correlaciones.append(Rcorr)\n",
    "    pesos.append(mod.coef_)\n",
    "    intercepts.append(mod.intercept_)\n",
    "    print(\"Training: alpha=%0.3f, mean corr=%0.3f, max corr=%0.3f, over-under(%0.2f)=%d\"%(alfa, np.mean(Rcorr), np.max(Rcorr), corrmin, (Rcorr>corrmin).sum()-( -Rcorr>corrmin).sum()))\n",
    "correlaciones = np.array(correlaciones)\n",
    "lista_Rmse = np.array(lista_Rmse)"
   ]
  },
  {
   "cell_type": "markdown",
   "metadata": {},
   "source": [
    "# con el criterio de liberty (podria usar otro):"
   ]
  },
  {
   "cell_type": "code",
   "execution_count": 34,
   "metadata": {},
   "outputs": [
    {
     "data": {
      "text/plain": [
       "Text(0.5, 0.98, 'El mejor alfa es de: 100000.0')"
      ]
     },
     "execution_count": 34,
     "metadata": {},
     "output_type": "execute_result"
    },
    {
     "data": {
      "image/png": "[encoded data removed]",
      "text/plain": [
       "<Figure size 1080x360 with 3 Axes>"
      ]
     },
     "metadata": {
      "needs_background": "light"
     },
     "output_type": "display_data"
    }
   ],
   "source": [
    "best_alpha_overall = correlaciones.mean(1).argmax()\n",
    "best_alpha_overall = alphas[best_alpha_overall]    \n",
    "# Plot correlations vs. alpha regularization value\n",
    "## cada linea es un canal\n",
    "fig=plt.figure(figsize=(15,5))\n",
    "fig.clf()\n",
    "plt.subplot(1,3,1)\n",
    "plt.subplots_adjust(wspace = 1  )\n",
    "plt.plot(alphas,correlaciones,'k')\n",
    "plt.gca().set_xscale('log')\n",
    "## en rojo: el maximo de las correlaciones\n",
    "## la linea azul marca el mejor alfa\n",
    "\n",
    "plt.plot([best_alpha_overall, best_alpha_overall],[plt.ylim()[0],plt.ylim()[1]])\n",
    "plt.plot([best_alpha_overall, best_alpha_overall],[plt.ylim()[0],plt.ylim()[1]])\n",
    "\n",
    "\n",
    "plt.plot(alphas,correlaciones.mean(1),'.r',linewidth=5)\n",
    "plt.xlabel('Alfa', fontsize=16)\n",
    "plt.ylabel('Correlación - Ridge set', fontsize=16)\n",
    "plt.tick_params(axis='both', which='major', labelsize=13)\n",
    "plt.tick_params(axis='both', which='minor', labelsize=13)\n",
    "\n",
    "### como se ve sola la correlacion maxima para los distintos alfas\n",
    "plt.subplot(1,3,2)\n",
    "plt.plot(alphas,np.array(correlaciones).mean(1),'.r',linewidth=5)     \n",
    "plt.plot(alphas,np.array(correlaciones).mean(1),'-r',linewidth=2)     \n",
    "\n",
    "plt.xlabel('Alfa', fontsize=16)\n",
    "plt.gca().set_xscale('log')\n",
    "plt.tick_params(axis='both', which='major', labelsize=13)\n",
    "plt.tick_params(axis='both', which='minor', labelsize=13)\n",
    "### el RMSE\n",
    "plt.subplot(1,3,3)\n",
    "plt.plot(alphas,np.array(lista_Rmse).min(1),'.r',linewidth=5) \n",
    "plt.plot(alphas,np.array(lista_Rmse).min(1),'-r',linewidth=2) \n",
    "plt.xlabel('Alfa', fontsize=16)\n",
    "plt.ylabel('RMSE - Ridge set', fontsize=16)\n",
    "plt.gca().set_xscale('log')\n",
    "plt.tick_params(axis='both', which='major', labelsize=13)\n",
    "plt.tick_params(axis='both', which='minor', labelsize=13)\n",
    "\n",
    "titulo = \"El mejor alfa es de: \"+ str(best_alpha_overall)\n",
    "plt.suptitle(titulo, fontsize=18)"
   ]
  },
  {
   "cell_type": "markdown",
   "metadata": {},
   "source": [
    "## Refino la búsqueda"
   ]
  },
  {
   "cell_type": "code",
   "execution_count": 35,
   "metadata": {},
   "outputs": [],
   "source": [
    "min_busqueda,max_busqueda = log10(best_alpha_overall)-1,log10(best_alpha_overall)+1"
   ]
  },
  {
   "cell_type": "code",
   "execution_count": 36,
   "metadata": {},
   "outputs": [],
   "source": [
    "### en ningun caso dan todos redondos\n",
    "\n",
    "alfas = np.logspace(min_busqueda,max_busqueda,10)\n",
    "\n",
    "for i in np.arange(10,50000):\n",
    "    alfas = np.logspace(min_busqueda,max_busqueda,i)\n",
    "    if np.alltrue((alfas % 10 == 0).astype(\"bool\")):\n",
    "        print(i)"
   ]
  },
  {
   "cell_type": "code",
   "execution_count": 37,
   "metadata": {},
   "outputs": [
    {
     "name": "stdout",
     "output_type": "stream",
     "text": [
      "Training: alpha=10000.000, mean corr=0.060, max corr=0.202, over-under(0.10)=18\n",
      "Training: alpha=10985.411, mean corr=0.060, max corr=0.202, over-under(0.10)=18\n",
      "Training: alpha=12067.926, mean corr=0.061, max corr=0.202, over-under(0.10)=18\n",
      "Training: alpha=13257.114, mean corr=0.061, max corr=0.203, over-under(0.10)=18\n",
      "Training: alpha=14563.485, mean corr=0.061, max corr=0.203, over-under(0.10)=18\n",
      "Training: alpha=15998.587, mean corr=0.061, max corr=0.203, over-under(0.10)=18\n",
      "Training: alpha=17575.106, mean corr=0.061, max corr=0.203, over-under(0.10)=18\n",
      "Training: alpha=19306.977, mean corr=0.061, max corr=0.203, over-under(0.10)=18\n",
      "Training: alpha=21209.509, mean corr=0.061, max corr=0.204, over-under(0.10)=18\n",
      "Training: alpha=23299.518, mean corr=0.062, max corr=0.204, over-under(0.10)=18\n",
      "Training: alpha=25595.479, mean corr=0.062, max corr=0.204, over-under(0.10)=18\n",
      "Training: alpha=28117.687, mean corr=0.062, max corr=0.204, over-under(0.10)=18\n",
      "Training: alpha=30888.436, mean corr=0.062, max corr=0.204, over-under(0.10)=18\n",
      "Training: alpha=33932.218, mean corr=0.062, max corr=0.204, over-under(0.10)=18\n",
      "Training: alpha=37275.937, mean corr=0.062, max corr=0.205, over-under(0.10)=18\n",
      "Training: alpha=40949.151, mean corr=0.062, max corr=0.205, over-under(0.10)=18\n",
      "Training: alpha=44984.327, mean corr=0.062, max corr=0.205, over-under(0.10)=18\n",
      "Training: alpha=49417.134, mean corr=0.062, max corr=0.205, over-under(0.10)=18\n",
      "Training: alpha=54286.754, mean corr=0.062, max corr=0.205, over-under(0.10)=18\n",
      "Training: alpha=59636.233, mean corr=0.062, max corr=0.205, over-under(0.10)=19\n",
      "Training: alpha=65512.856, mean corr=0.062, max corr=0.205, over-under(0.10)=19\n",
      "Training: alpha=71968.567, mean corr=0.062, max corr=0.205, over-under(0.10)=19\n",
      "Training: alpha=79060.432, mean corr=0.062, max corr=0.206, over-under(0.10)=19\n",
      "Training: alpha=86851.137, mean corr=0.062, max corr=0.206, over-under(0.10)=19\n",
      "Training: alpha=95409.548, mean corr=0.062, max corr=0.206, over-under(0.10)=19\n",
      "Training: alpha=104811.313, mean corr=0.062, max corr=0.206, over-under(0.10)=19\n",
      "Training: alpha=115139.540, mean corr=0.062, max corr=0.206, over-under(0.10)=19\n",
      "Training: alpha=126485.522, mean corr=0.062, max corr=0.206, over-under(0.10)=20\n",
      "Training: alpha=138949.549, mean corr=0.061, max corr=0.206, over-under(0.10)=20\n",
      "Training: alpha=152641.797, mean corr=0.061, max corr=0.206, over-under(0.10)=20\n",
      "Training: alpha=167683.294, mean corr=0.061, max corr=0.206, over-under(0.10)=20\n",
      "Training: alpha=184206.997, mean corr=0.061, max corr=0.206, over-under(0.10)=20\n",
      "Training: alpha=202358.965, mean corr=0.060, max corr=0.206, over-under(0.10)=20\n",
      "Training: alpha=222299.648, mean corr=0.060, max corr=0.206, over-under(0.10)=20\n",
      "Training: alpha=244205.309, mean corr=0.060, max corr=0.206, over-under(0.10)=21\n",
      "Training: alpha=268269.580, mean corr=0.060, max corr=0.206, over-under(0.10)=22\n",
      "Training: alpha=294705.170, mean corr=0.059, max corr=0.206, over-under(0.10)=22\n",
      "Training: alpha=323745.754, mean corr=0.059, max corr=0.206, over-under(0.10)=21\n",
      "Training: alpha=355648.031, mean corr=0.059, max corr=0.206, over-under(0.10)=22\n",
      "Training: alpha=390693.994, mean corr=0.058, max corr=0.206, over-under(0.10)=21\n",
      "Training: alpha=429193.426, mean corr=0.058, max corr=0.206, over-under(0.10)=21\n",
      "Training: alpha=471486.636, mean corr=0.057, max corr=0.206, over-under(0.10)=20\n",
      "Training: alpha=517947.468, mean corr=0.057, max corr=0.206, over-under(0.10)=20\n",
      "Training: alpha=568986.603, mean corr=0.057, max corr=0.206, over-under(0.10)=20\n",
      "Training: alpha=625055.193, mean corr=0.056, max corr=0.206, over-under(0.10)=20\n",
      "Training: alpha=686648.845, mean corr=0.056, max corr=0.206, over-under(0.10)=20\n",
      "Training: alpha=754312.006, mean corr=0.056, max corr=0.206, over-under(0.10)=20\n",
      "Training: alpha=828642.773, mean corr=0.055, max corr=0.206, over-under(0.10)=20\n",
      "Training: alpha=910298.178, mean corr=0.055, max corr=0.206, over-under(0.10)=20\n",
      "Training: alpha=1000000.000, mean corr=0.055, max corr=0.206, over-under(0.10)=20\n"
     ]
    }
   ],
   "source": [
    "alphas = np.logspace(min_busqueda,max_busqueda,50)\n",
    "correlaciones = []\n",
    "pesos = []\n",
    "intercepts = []\n",
    "lista_Rmse = []\n",
    "corrmin = 0.1\n",
    "\n",
    "for alfa in alphas:\n",
    "    mod = linear_model.Ridge(alpha=alfa, random_state=123)\n",
    "    mod.fit(tStim,tResp_z) ## entreno el modelo\n",
    "    predicho = mod.predict(rStim) ## testeo en ridge set\n",
    "    Rcorr = np.array([np.corrcoef(rResp_z[:,ii].ravel(), np.array(predicho[:,ii]).ravel())[0,1] for ii in range(rResp_z.shape[1])])\n",
    "    Rmse = np.matrix(np.sqrt(np.power((predicho - rResp_z),2).mean(0)))\n",
    "    lista_Rmse.append(np.array(Rmse)[0])\n",
    "    Rcorr[np.isnan(Rcorr)] = 0\n",
    "    correlaciones.append(Rcorr)\n",
    "    pesos.append(mod.coef_)\n",
    "    intercepts.append(mod.intercept_)\n",
    "    print(\"Training: alpha=%0.3f, mean corr=%0.3f, max corr=%0.3f, over-under(%0.2f)=%d\"%(alfa, np.mean(Rcorr), np.max(Rcorr), corrmin, (Rcorr>corrmin).sum()-( -Rcorr>corrmin).sum()))\n",
    "correlaciones = np.array(correlaciones)\n",
    "lista_Rmse = np.array(lista_Rmse)"
   ]
  },
  {
   "cell_type": "code",
   "execution_count": 38,
   "metadata": {},
   "outputs": [
    {
     "data": {
      "text/plain": [
       "0.06009648315380717"
      ]
     },
     "execution_count": 38,
     "metadata": {},
     "output_type": "execute_result"
    }
   ],
   "source": [
    "correlaciones.mean(1).mean()"
   ]
  },
  {
   "cell_type": "code",
   "execution_count": 39,
   "metadata": {},
   "outputs": [
    {
     "name": "stdout",
     "output_type": "stream",
     "text": [
      "El mejor alfa es de:  59636.23316594637\n",
      "Con una correlación media de:  0.06029612126966836\n",
      "Y una correlación máxima de:  0.2018866359337977\n"
     ]
    },
    {
     "data": {
      "image/png": "[encoded data removed]",
      "text/plain": [
       "<Figure size 1080x360 with 3 Axes>"
      ]
     },
     "metadata": {
      "needs_background": "light"
     },
     "output_type": "display_data"
    }
   ],
   "source": [
    "best_alpha_overall = correlaciones.mean(1).argmax()\n",
    "best_alpha_overall = alphas[best_alpha_overall]    \n",
    "# Plot correlations vs. alpha regularization value\n",
    "## cada linea es un canal\n",
    "fig=plt.figure(figsize=(15,5))\n",
    "fig.clf()\n",
    "plt.subplot(1,3,1)\n",
    "plt.subplots_adjust(wspace = 1  )\n",
    "plt.plot(alphas,correlaciones,'k')\n",
    "plt.gca().set_xscale('log')\n",
    "## en rojo: el maximo de las correlaciones\n",
    "## la linea azul marca el mejor alfa\n",
    "\n",
    "plt.plot([best_alpha_overall, best_alpha_overall],[plt.ylim()[0],plt.ylim()[1]])\n",
    "plt.plot([best_alpha_overall, best_alpha_overall],[plt.ylim()[0],plt.ylim()[1]])\n",
    "\n",
    "\n",
    "plt.plot(alphas,correlaciones.mean(1),'.r',linewidth=5)\n",
    "\n",
    "\n",
    "plt.xlabel('Alfa', fontsize=16)\n",
    "plt.ylabel('Correlación - Ridge set', fontsize=16)\n",
    "plt.tick_params(axis='both', which='major', labelsize=13)\n",
    "plt.tick_params(axis='both', which='minor', labelsize=13)\n",
    "\n",
    "### como se ve sola la correlacion maxima para los distintos alfas\n",
    "plt.subplot(1,3,2)\n",
    "plt.plot(alphas,np.array(correlaciones).mean(1),'.r',linewidth=5)     \n",
    "plt.plot(alphas,np.array(correlaciones).mean(1),'-r',linewidth=1)     \n",
    "\n",
    "\n",
    "plt.plot([best_alpha_overall, best_alpha_overall],[plt.ylim()[0],plt.ylim()[1]])\n",
    "plt.plot([best_alpha_overall, best_alpha_overall],[plt.ylim()[0],plt.ylim()[1]])\n",
    "\n",
    "plt.xlabel('Alfa', fontsize=16)\n",
    "plt.gca().set_xscale('log')\n",
    "plt.tick_params(axis='both', which='major', labelsize=13)\n",
    "plt.tick_params(axis='both', which='minor', labelsize=13)\n",
    "### el RMSE\n",
    "plt.subplot(1,3,3)\n",
    "plt.plot(alphas,np.array(lista_Rmse).min(1),'.r',linewidth=5) \n",
    "plt.plot(alphas,np.array(lista_Rmse).min(1),'-r',linewidth=1) \n",
    "\n",
    "\n",
    "plt.plot([best_alpha_overall, best_alpha_overall],[plt.ylim()[0],plt.ylim()[1]])\n",
    "plt.plot([best_alpha_overall, best_alpha_overall],[plt.ylim()[0],plt.ylim()[1]])\n",
    "\n",
    "plt.xlabel('Alfa', fontsize=16)\n",
    "plt.ylabel('RMSE - Ridge set', fontsize=16)\n",
    "plt.gca().set_xscale('log')\n",
    "plt.tick_params(axis='both', which='major', labelsize=13)\n",
    "plt.tick_params(axis='both', which='minor', labelsize=13)\n",
    "\n",
    "titulo = \"El mejor alfa es de: \"+ str(best_alpha_overall)\n",
    "plt.suptitle(titulo, fontsize=18)\n",
    "\n",
    "\n",
    "\n",
    "print(\"El mejor alfa es de: \",best_alpha_overall)\n",
    "print(\"Con una correlación media de: \",correlaciones[best_alpha_overall.argmax()].mean())\n",
    "print(\"Y una correlación máxima de: \",correlaciones[best_alpha_overall.argmax()].max())"
   ]
  },
  {
   "cell_type": "code",
   "execution_count": 40,
   "metadata": {},
   "outputs": [],
   "source": [
    "mejor_alfa = 494.17"
   ]
  },
  {
   "cell_type": "code",
   "execution_count": 41,
   "metadata": {},
   "outputs": [],
   "source": [
    "mejor_alfa = best_alpha_overall"
   ]
  },
  {
   "cell_type": "code",
   "execution_count": 42,
   "metadata": {},
   "outputs": [],
   "source": [
    "mod = linear_model.Ridge(alpha=mejor_alfa, random_state=123)\n",
    "mod.fit(tStim,tResp_z) ## entreno el modelo\n",
    "mejor_canal = correlaciones[best_alpha_overall.argmax()].argmax()"
   ]
  },
  {
   "cell_type": "code",
   "execution_count": 43,
   "metadata": {},
   "outputs": [],
   "source": [
    "predicho = mod.predict(rStim) ## testeo en ridge set\n",
    "Rcorr = np.array([np.corrcoef(rResp_z[:,ii].ravel(), np.array(predicho[:,ii]).ravel())[0,1] for ii in range(rResp_z.shape[1])])"
   ]
  },
  {
   "cell_type": "code",
   "execution_count": 44,
   "metadata": {},
   "outputs": [
    {
     "data": {
      "text/plain": [
       "0.2052684059541175"
      ]
     },
     "execution_count": 44,
     "metadata": {},
     "output_type": "execute_result"
    }
   ],
   "source": [
    "Rcorr[29]"
   ]
  },
  {
   "cell_type": "code",
   "execution_count": 45,
   "metadata": {},
   "outputs": [
    {
     "data": {
      "text/plain": [
       "29"
      ]
     },
     "execution_count": 45,
     "metadata": {},
     "output_type": "execute_result"
    }
   ],
   "source": [
    "mejor_canal"
   ]
  },
  {
   "cell_type": "markdown",
   "metadata": {},
   "source": [
    "###  prueba"
   ]
  },
  {
   "cell_type": "code",
   "execution_count": 46,
   "metadata": {},
   "outputs": [
    {
     "data": {
      "text/plain": [
       "Text(0.5, 0.98, 'Betas para delay time = 0.53')"
      ]
     },
     "execution_count": 46,
     "metadata": {},
     "output_type": "execute_result"
    },
    {
     "data": {
      "image/png": "[encoded data removed]",
      "text/plain": [
       "<Figure size 864x288 with 2 Axes>"
      ]
     },
     "metadata": {
      "needs_background": "light"
     },
     "output_type": "display_data"
    }
   ],
   "source": [
    "plt.figure(figsize=(12,4))\n",
    "plt.subplot(1,2,2)\n",
    "plt.plot(np.arange(0,1.0/128 * mod.coef_.shape[1],1.0/128),mod.coef_[29],\"-o\")\n",
    "plt.xlabel(\"Alfa Nuevo: \" +str(round(best_alpha_overall,2)) ,fontsize=13)\n",
    "mejor_alfa = 494.17\n",
    "mod = linear_model.Ridge(alpha=mejor_alfa, random_state=123)\n",
    "mod.fit(tStim,tResp_z) ## entreno el modelo\n",
    "plt.subplot(1,2,1)\n",
    "plt.plot(np.arange(0,1.0/128 * mod.coef_.shape[1],1.0/128),mod.coef_[29],\"-o\")\n",
    "plt.xlabel(\"Alfa Original: 494.17\",fontsize=13)\n",
    "plt.suptitle(\"Betas para delay time = \"+str(delay_time),fontsize=16)"
   ]
  },
  {
   "cell_type": "code",
   "execution_count": 47,
   "metadata": {},
   "outputs": [],
   "source": [
    "sujeto  = \"21\""
   ]
  },
  {
   "cell_type": "code",
   "execution_count": 53,
   "metadata": {},
   "outputs": [],
   "source": [
    "mejor_alfa = 494.17\n",
    "mod = linear_model.Ridge(alpha=mejor_alfa, random_state=123)\n",
    "mod.fit(tStim,tResp_z) ## entreno el modelo\n",
    "\n",
    "predicho = mod.predict(rStim) ## testeo en ridge set\n",
    "Rcorr_494 = np.array([np.corrcoef(rResp_z[:,ii].ravel(), np.array(predicho[:,ii]).ravel())[0,1] for ii in range(rResp_z.shape[1])])\n",
    "\n",
    "mod.coef_.shape\n",
    "Rcorr_494.shape\n",
    "np.savetxt(X=mod.coef_,fname=\"saves/Otras Pruebas/todos los sujetos/s\"+sujeto+\"betas_494.txt\")\n",
    "np.savetxt(X=Rcorr_494,fname=\"saves/Otras Pruebas/todos los sujetos/s\"+sujeto+\"correlaciones_494.txt\")"
   ]
  },
  {
   "cell_type": "code",
   "execution_count": 54,
   "metadata": {},
   "outputs": [
    {
     "data": {
      "text/plain": [
       "(128,)"
      ]
     },
     "execution_count": 54,
     "metadata": {},
     "output_type": "execute_result"
    }
   ],
   "source": [
    "mejor_alfa = best_alpha_overall\n",
    "mod = linear_model.Ridge(alpha=mejor_alfa, random_state=123)\n",
    "mod.fit(tStim,tResp_z) ## entreno el modelo\n",
    "\n",
    "predicho = mod.predict(rStim) ## testeo en ridge set\n",
    "Rcorr_494 = np.array([np.corrcoef(rResp_z[:,ii].ravel(), np.array(predicho[:,ii]).ravel())[0,1] for ii in range(rResp_z.shape[1])])\n",
    "\n",
    "mod.coef_.shape\n",
    "Rcorr_494.shape"
   ]
  }
 ],
 "metadata": {
  "kernelspec": {
   "display_name": "Python 3",
   "language": "python",
   "name": "python3"
  },
  "language_info": {
   "codemirror_mode": {
    "name": "ipython",
    "version": 3
   },
   "file_extension": ".py",
   "mimetype": "text/x-python",
   "name": "python",
   "nbconvert_exporter": "python",
   "pygments_lexer": "ipython3",
   "version": "3.8.5"
  }
 },
 "nbformat": 4,
 "nbformat_minor": 2
}
